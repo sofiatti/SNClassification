{
 "metadata": {
  "name": "",
  "signature": "sha256:7084f8f059ed706bd3b0e7cc2d5e62767c17abbf4bd9161c52861cb337c88455"
 },
 "nbformat": 3,
 "nbformat_minor": 0,
 "worksheets": [
  {
   "cells": [
    {
     "cell_type": "markdown",
     "metadata": {},
     "source": [
      "<h1>Classification of Type Ia, Ibc and II SNe</h1>"
     ]
    },
    {
     "cell_type": "code",
     "collapsed": false,
     "input": [
      "import numpy as np\n",
      "import pandas as pd\n",
      "import copy\n",
      "from sklearn.cross_validation import train_test_split\n",
      "from sklearn.metrics import confusion_matrix\n",
      "\n",
      "all_sources = pd.read_csv('sn_data.csv')\n",
      "\n",
      "all_sources['Type'] = 'Type Ia'\n",
      "all_sources.ix[333:(333 + 445), 'Type'] = 'Type Ibc'\n",
      "all_sources.ix[(333 + 445):, 'Type'] = 'Type II'\n",
      "\n",
      "all_features = copy.copy(all_sources)\n",
      "all_label = all_sources[\"Type\"]\n",
      "del all_features[\"Type\"]\n",
      "X = copy.copy(all_features.values)\n",
      "Y = copy.copy(all_label.values)\n",
      "\n",
      "print \"feature vector shape=\", X.shape\n",
      "print \"class shape=\", Y.shape"
     ],
     "language": "python",
     "metadata": {},
     "outputs": [
      {
       "output_type": "stream",
       "stream": "stdout",
       "text": [
        "feature vector shape= (1000, 2)\n",
        "class shape= (1000,)\n"
       ]
      }
     ],
     "prompt_number": 94
    },
    {
     "cell_type": "code",
     "collapsed": false,
     "input": [
      "Y"
     ],
     "language": "python",
     "metadata": {},
     "outputs": [
      {
       "metadata": {},
       "output_type": "pyout",
       "prompt_number": 95,
       "text": [
        "array(['Type Ia', 'Type Ia', 'Type Ia', 'Type Ia', 'Type Ia', 'Type Ia',\n",
        "       'Type Ia', 'Type Ia', 'Type Ia', 'Type Ia', 'Type Ia', 'Type Ia',\n",
        "       'Type Ia', 'Type Ia', 'Type Ia', 'Type Ia', 'Type Ia', 'Type Ia',\n",
        "       'Type Ia', 'Type Ia', 'Type Ia', 'Type Ia', 'Type Ia', 'Type Ia',\n",
        "       'Type Ia', 'Type Ia', 'Type Ia', 'Type Ia', 'Type Ia', 'Type Ia',\n",
        "       'Type Ia', 'Type Ia', 'Type Ia', 'Type Ia', 'Type Ia', 'Type Ia',\n",
        "       'Type Ia', 'Type Ia', 'Type Ia', 'Type Ia', 'Type Ia', 'Type Ia',\n",
        "       'Type Ia', 'Type Ia', 'Type Ia', 'Type Ia', 'Type Ia', 'Type Ia',\n",
        "       'Type Ia', 'Type Ia', 'Type Ia', 'Type Ia', 'Type Ia', 'Type Ia',\n",
        "       'Type Ia', 'Type Ia', 'Type Ia', 'Type Ia', 'Type Ia', 'Type Ia',\n",
        "       'Type Ia', 'Type Ia', 'Type Ia', 'Type Ia', 'Type Ia', 'Type Ia',\n",
        "       'Type Ia', 'Type Ia', 'Type Ia', 'Type Ia', 'Type Ia', 'Type Ia',\n",
        "       'Type Ia', 'Type Ia', 'Type Ia', 'Type Ia', 'Type Ia', 'Type Ia',\n",
        "       'Type Ia', 'Type Ia', 'Type Ia', 'Type Ia', 'Type Ia', 'Type Ia',\n",
        "       'Type Ia', 'Type Ia', 'Type Ia', 'Type Ia', 'Type Ia', 'Type Ia',\n",
        "       'Type Ia', 'Type Ia', 'Type Ia', 'Type Ia', 'Type Ia', 'Type Ia',\n",
        "       'Type Ia', 'Type Ia', 'Type Ia', 'Type Ia', 'Type Ia', 'Type Ia',\n",
        "       'Type Ia', 'Type Ia', 'Type Ia', 'Type Ia', 'Type Ia', 'Type Ia',\n",
        "       'Type Ia', 'Type Ia', 'Type Ia', 'Type Ia', 'Type Ia', 'Type Ia',\n",
        "       'Type Ia', 'Type Ia', 'Type Ia', 'Type Ia', 'Type Ia', 'Type Ia',\n",
        "       'Type Ia', 'Type Ia', 'Type Ia', 'Type Ia', 'Type Ia', 'Type Ia',\n",
        "       'Type Ia', 'Type Ia', 'Type Ia', 'Type Ia', 'Type Ia', 'Type Ia',\n",
        "       'Type Ia', 'Type Ia', 'Type Ia', 'Type Ia', 'Type Ia', 'Type Ia',\n",
        "       'Type Ia', 'Type Ia', 'Type Ia', 'Type Ia', 'Type Ia', 'Type Ia',\n",
        "       'Type Ia', 'Type Ia', 'Type Ia', 'Type Ia', 'Type Ia', 'Type Ia',\n",
        "       'Type Ia', 'Type Ia', 'Type Ia', 'Type Ia', 'Type Ia', 'Type Ia',\n",
        "       'Type Ia', 'Type Ia', 'Type Ia', 'Type Ia', 'Type Ia', 'Type Ia',\n",
        "       'Type Ia', 'Type Ia', 'Type Ia', 'Type Ia', 'Type Ia', 'Type Ia',\n",
        "       'Type Ia', 'Type Ia', 'Type Ia', 'Type Ia', 'Type Ia', 'Type Ia',\n",
        "       'Type Ia', 'Type Ia', 'Type Ia', 'Type Ia', 'Type Ia', 'Type Ia',\n",
        "       'Type Ia', 'Type Ia', 'Type Ia', 'Type Ia', 'Type Ia', 'Type Ia',\n",
        "       'Type Ia', 'Type Ia', 'Type Ia', 'Type Ia', 'Type Ia', 'Type Ia',\n",
        "       'Type Ia', 'Type Ia', 'Type Ia', 'Type Ia', 'Type Ia', 'Type Ia',\n",
        "       'Type Ia', 'Type Ia', 'Type Ia', 'Type Ia', 'Type Ia', 'Type Ia',\n",
        "       'Type Ia', 'Type Ia', 'Type Ia', 'Type Ia', 'Type Ia', 'Type Ia',\n",
        "       'Type Ia', 'Type Ia', 'Type Ia', 'Type Ia', 'Type Ia', 'Type Ia',\n",
        "       'Type Ia', 'Type Ia', 'Type Ia', 'Type Ia', 'Type Ia', 'Type Ia',\n",
        "       'Type Ia', 'Type Ia', 'Type Ia', 'Type Ia', 'Type Ia', 'Type Ia',\n",
        "       'Type Ia', 'Type Ia', 'Type Ia', 'Type Ia', 'Type Ia', 'Type Ia',\n",
        "       'Type Ia', 'Type Ia', 'Type Ia', 'Type Ia', 'Type Ia', 'Type Ia',\n",
        "       'Type Ia', 'Type Ia', 'Type Ia', 'Type Ia', 'Type Ia', 'Type Ia',\n",
        "       'Type Ia', 'Type Ia', 'Type Ia', 'Type Ia', 'Type Ia', 'Type Ia',\n",
        "       'Type Ia', 'Type Ia', 'Type Ia', 'Type Ia', 'Type Ia', 'Type Ia',\n",
        "       'Type Ia', 'Type Ia', 'Type Ia', 'Type Ia', 'Type Ia', 'Type Ia',\n",
        "       'Type Ia', 'Type Ia', 'Type Ia', 'Type Ia', 'Type Ia', 'Type Ia',\n",
        "       'Type Ia', 'Type Ia', 'Type Ia', 'Type Ia', 'Type Ia', 'Type Ia',\n",
        "       'Type Ia', 'Type Ia', 'Type Ia', 'Type Ia', 'Type Ia', 'Type Ia',\n",
        "       'Type Ia', 'Type Ia', 'Type Ia', 'Type Ia', 'Type Ia', 'Type Ia',\n",
        "       'Type Ia', 'Type Ia', 'Type Ia', 'Type Ia', 'Type Ia', 'Type Ia',\n",
        "       'Type Ia', 'Type Ia', 'Type Ia', 'Type Ia', 'Type Ia', 'Type Ia',\n",
        "       'Type Ia', 'Type Ia', 'Type Ia', 'Type Ia', 'Type Ia', 'Type Ia',\n",
        "       'Type Ia', 'Type Ia', 'Type Ia', 'Type Ia', 'Type Ia', 'Type Ia',\n",
        "       'Type Ia', 'Type Ia', 'Type Ia', 'Type Ia', 'Type Ia', 'Type Ia',\n",
        "       'Type Ia', 'Type Ia', 'Type Ia', 'Type Ia', 'Type Ia', 'Type Ia',\n",
        "       'Type Ia', 'Type Ia', 'Type Ia', 'Type Ia', 'Type Ia', 'Type Ia',\n",
        "       'Type Ia', 'Type Ia', 'Type Ia', 'Type Ibc', 'Type Ibc', 'Type Ibc',\n",
        "       'Type Ibc', 'Type Ibc', 'Type Ibc', 'Type Ibc', 'Type Ibc',\n",
        "       'Type Ibc', 'Type Ibc', 'Type Ibc', 'Type Ibc', 'Type Ibc',\n",
        "       'Type Ibc', 'Type Ibc', 'Type Ibc', 'Type Ibc', 'Type Ibc',\n",
        "       'Type Ibc', 'Type Ibc', 'Type Ibc', 'Type Ibc', 'Type Ibc',\n",
        "       'Type Ibc', 'Type Ibc', 'Type Ibc', 'Type Ibc', 'Type Ibc',\n",
        "       'Type Ibc', 'Type Ibc', 'Type Ibc', 'Type Ibc', 'Type Ibc',\n",
        "       'Type Ibc', 'Type Ibc', 'Type Ibc', 'Type Ibc', 'Type Ibc',\n",
        "       'Type Ibc', 'Type Ibc', 'Type Ibc', 'Type Ibc', 'Type Ibc',\n",
        "       'Type Ibc', 'Type Ibc', 'Type Ibc', 'Type Ibc', 'Type Ibc',\n",
        "       'Type Ibc', 'Type Ibc', 'Type Ibc', 'Type Ibc', 'Type Ibc',\n",
        "       'Type Ibc', 'Type Ibc', 'Type Ibc', 'Type Ibc', 'Type Ibc',\n",
        "       'Type Ibc', 'Type Ibc', 'Type Ibc', 'Type Ibc', 'Type Ibc',\n",
        "       'Type Ibc', 'Type Ibc', 'Type Ibc', 'Type Ibc', 'Type Ibc',\n",
        "       'Type Ibc', 'Type Ibc', 'Type Ibc', 'Type Ibc', 'Type Ibc',\n",
        "       'Type Ibc', 'Type Ibc', 'Type Ibc', 'Type Ibc', 'Type Ibc',\n",
        "       'Type Ibc', 'Type Ibc', 'Type Ibc', 'Type Ibc', 'Type Ibc',\n",
        "       'Type Ibc', 'Type Ibc', 'Type Ibc', 'Type Ibc', 'Type Ibc',\n",
        "       'Type Ibc', 'Type Ibc', 'Type Ibc', 'Type Ibc', 'Type Ibc',\n",
        "       'Type Ibc', 'Type Ibc', 'Type Ibc', 'Type Ibc', 'Type Ibc',\n",
        "       'Type Ibc', 'Type Ibc', 'Type Ibc', 'Type Ibc', 'Type Ibc',\n",
        "       'Type Ibc', 'Type Ibc', 'Type Ibc', 'Type Ibc', 'Type Ibc',\n",
        "       'Type Ibc', 'Type Ibc', 'Type Ibc', 'Type Ibc', 'Type Ibc',\n",
        "       'Type Ibc', 'Type Ibc', 'Type Ibc', 'Type Ibc', 'Type Ibc',\n",
        "       'Type Ibc', 'Type Ibc', 'Type Ibc', 'Type Ibc', 'Type Ibc',\n",
        "       'Type Ibc', 'Type Ibc', 'Type Ibc', 'Type Ibc', 'Type Ibc',\n",
        "       'Type Ibc', 'Type Ibc', 'Type Ibc', 'Type Ibc', 'Type Ibc',\n",
        "       'Type Ibc', 'Type Ibc', 'Type Ibc', 'Type Ibc', 'Type Ibc',\n",
        "       'Type Ibc', 'Type Ibc', 'Type Ibc', 'Type Ibc', 'Type Ibc',\n",
        "       'Type Ibc', 'Type Ibc', 'Type Ibc', 'Type Ibc', 'Type Ibc',\n",
        "       'Type Ibc', 'Type Ibc', 'Type Ibc', 'Type Ibc', 'Type Ibc',\n",
        "       'Type Ibc', 'Type Ibc', 'Type Ibc', 'Type Ibc', 'Type Ibc',\n",
        "       'Type Ibc', 'Type Ibc', 'Type Ibc', 'Type Ibc', 'Type Ibc',\n",
        "       'Type Ibc', 'Type Ibc', 'Type Ibc', 'Type Ibc', 'Type Ibc',\n",
        "       'Type Ibc', 'Type Ibc', 'Type Ibc', 'Type Ibc', 'Type Ibc',\n",
        "       'Type Ibc', 'Type Ibc', 'Type Ibc', 'Type Ibc', 'Type Ibc',\n",
        "       'Type Ibc', 'Type Ibc', 'Type Ibc', 'Type Ibc', 'Type Ibc',\n",
        "       'Type Ibc', 'Type Ibc', 'Type Ibc', 'Type Ibc', 'Type Ibc',\n",
        "       'Type Ibc', 'Type Ibc', 'Type Ibc', 'Type Ibc', 'Type Ibc',\n",
        "       'Type Ibc', 'Type Ibc', 'Type Ibc', 'Type Ibc', 'Type Ibc',\n",
        "       'Type Ibc', 'Type Ibc', 'Type Ibc', 'Type Ibc', 'Type Ibc',\n",
        "       'Type Ibc', 'Type Ibc', 'Type Ibc', 'Type Ibc', 'Type Ibc',\n",
        "       'Type Ibc', 'Type Ibc', 'Type Ibc', 'Type Ibc', 'Type Ibc',\n",
        "       'Type Ibc', 'Type Ibc', 'Type Ibc', 'Type Ibc', 'Type Ibc',\n",
        "       'Type Ibc', 'Type Ibc', 'Type Ibc', 'Type Ibc', 'Type Ibc',\n",
        "       'Type Ibc', 'Type Ibc', 'Type Ibc', 'Type Ibc', 'Type Ibc',\n",
        "       'Type Ibc', 'Type Ibc', 'Type Ibc', 'Type Ibc', 'Type Ibc',\n",
        "       'Type Ibc', 'Type Ibc', 'Type Ibc', 'Type Ibc', 'Type Ibc',\n",
        "       'Type Ibc', 'Type Ibc', 'Type Ibc', 'Type Ibc', 'Type Ibc',\n",
        "       'Type Ibc', 'Type Ibc', 'Type Ibc', 'Type Ibc', 'Type Ibc',\n",
        "       'Type Ibc', 'Type Ibc', 'Type Ibc', 'Type Ibc', 'Type Ibc',\n",
        "       'Type Ibc', 'Type Ibc', 'Type Ibc', 'Type Ibc', 'Type Ibc',\n",
        "       'Type Ibc', 'Type Ibc', 'Type Ibc', 'Type Ibc', 'Type Ibc',\n",
        "       'Type Ibc', 'Type Ibc', 'Type Ibc', 'Type Ibc', 'Type Ibc',\n",
        "       'Type Ibc', 'Type Ibc', 'Type Ibc', 'Type Ibc', 'Type Ibc',\n",
        "       'Type Ibc', 'Type Ibc', 'Type Ibc', 'Type Ibc', 'Type Ibc',\n",
        "       'Type Ibc', 'Type Ibc', 'Type Ibc', 'Type Ibc', 'Type Ibc',\n",
        "       'Type Ibc', 'Type Ibc', 'Type Ibc', 'Type Ibc', 'Type Ibc',\n",
        "       'Type Ibc', 'Type Ibc', 'Type Ibc', 'Type Ibc', 'Type Ibc',\n",
        "       'Type Ibc', 'Type Ibc', 'Type Ibc', 'Type Ibc', 'Type Ibc',\n",
        "       'Type Ibc', 'Type Ibc', 'Type Ibc', 'Type Ibc', 'Type Ibc',\n",
        "       'Type Ibc', 'Type Ibc', 'Type Ibc', 'Type Ibc', 'Type Ibc',\n",
        "       'Type Ibc', 'Type Ibc', 'Type Ibc', 'Type Ibc', 'Type Ibc',\n",
        "       'Type Ibc', 'Type Ibc', 'Type Ibc', 'Type Ibc', 'Type Ibc',\n",
        "       'Type Ibc', 'Type Ibc', 'Type Ibc', 'Type Ibc', 'Type Ibc',\n",
        "       'Type Ibc', 'Type Ibc', 'Type Ibc', 'Type Ibc', 'Type Ibc',\n",
        "       'Type Ibc', 'Type Ibc', 'Type Ibc', 'Type Ibc', 'Type Ibc',\n",
        "       'Type Ibc', 'Type Ibc', 'Type Ibc', 'Type Ibc', 'Type Ibc',\n",
        "       'Type Ibc', 'Type Ibc', 'Type Ibc', 'Type Ibc', 'Type Ibc',\n",
        "       'Type Ibc', 'Type Ibc', 'Type Ibc', 'Type Ibc', 'Type Ibc',\n",
        "       'Type Ibc', 'Type Ibc', 'Type Ibc', 'Type Ibc', 'Type Ibc',\n",
        "       'Type Ibc', 'Type Ibc', 'Type Ibc', 'Type Ibc', 'Type Ibc',\n",
        "       'Type Ibc', 'Type Ibc', 'Type Ibc', 'Type Ibc', 'Type Ibc',\n",
        "       'Type Ibc', 'Type Ibc', 'Type Ibc', 'Type Ibc', 'Type Ibc',\n",
        "       'Type Ibc', 'Type Ibc', 'Type Ibc', 'Type Ibc', 'Type Ibc',\n",
        "       'Type Ibc', 'Type Ibc', 'Type Ibc', 'Type Ibc', 'Type Ibc',\n",
        "       'Type Ibc', 'Type Ibc', 'Type Ibc', 'Type Ibc', 'Type Ibc',\n",
        "       'Type Ibc', 'Type Ibc', 'Type Ibc', 'Type Ibc', 'Type Ibc',\n",
        "       'Type Ibc', 'Type Ibc', 'Type Ibc', 'Type Ibc', 'Type Ibc',\n",
        "       'Type Ibc', 'Type Ibc', 'Type Ibc', 'Type Ibc', 'Type Ibc',\n",
        "       'Type Ibc', 'Type Ibc', 'Type Ibc', 'Type Ibc', 'Type Ibc',\n",
        "       'Type Ibc', 'Type Ibc', 'Type Ibc', 'Type Ibc', 'Type Ibc',\n",
        "       'Type Ibc', 'Type Ibc', 'Type Ibc', 'Type Ibc', 'Type Ibc',\n",
        "       'Type Ibc', 'Type Ibc', 'Type Ibc', 'Type Ibc', 'Type Ibc',\n",
        "       'Type Ibc', 'Type Ibc', 'Type Ibc', 'Type Ibc', 'Type Ibc',\n",
        "       'Type Ibc', 'Type Ibc', 'Type Ibc', 'Type Ibc', 'Type Ibc',\n",
        "       'Type Ibc', 'Type Ibc', 'Type Ibc', 'Type Ibc', 'Type Ibc',\n",
        "       'Type Ibc', 'Type Ibc', 'Type Ibc', 'Type Ibc', 'Type Ibc',\n",
        "       'Type Ibc', 'Type Ibc', 'Type Ibc', 'Type Ibc', 'Type Ibc',\n",
        "       'Type Ibc', 'Type Ibc', 'Type II', 'Type II', 'Type II', 'Type II',\n",
        "       'Type II', 'Type II', 'Type II', 'Type II', 'Type II', 'Type II',\n",
        "       'Type II', 'Type II', 'Type II', 'Type II', 'Type II', 'Type II',\n",
        "       'Type II', 'Type II', 'Type II', 'Type II', 'Type II', 'Type II',\n",
        "       'Type II', 'Type II', 'Type II', 'Type II', 'Type II', 'Type II',\n",
        "       'Type II', 'Type II', 'Type II', 'Type II', 'Type II', 'Type II',\n",
        "       'Type II', 'Type II', 'Type II', 'Type II', 'Type II', 'Type II',\n",
        "       'Type II', 'Type II', 'Type II', 'Type II', 'Type II', 'Type II',\n",
        "       'Type II', 'Type II', 'Type II', 'Type II', 'Type II', 'Type II',\n",
        "       'Type II', 'Type II', 'Type II', 'Type II', 'Type II', 'Type II',\n",
        "       'Type II', 'Type II', 'Type II', 'Type II', 'Type II', 'Type II',\n",
        "       'Type II', 'Type II', 'Type II', 'Type II', 'Type II', 'Type II',\n",
        "       'Type II', 'Type II', 'Type II', 'Type II', 'Type II', 'Type II',\n",
        "       'Type II', 'Type II', 'Type II', 'Type II', 'Type II', 'Type II',\n",
        "       'Type II', 'Type II', 'Type II', 'Type II', 'Type II', 'Type II',\n",
        "       'Type II', 'Type II', 'Type II', 'Type II', 'Type II', 'Type II',\n",
        "       'Type II', 'Type II', 'Type II', 'Type II', 'Type II', 'Type II',\n",
        "       'Type II', 'Type II', 'Type II', 'Type II', 'Type II', 'Type II',\n",
        "       'Type II', 'Type II', 'Type II', 'Type II', 'Type II', 'Type II',\n",
        "       'Type II', 'Type II', 'Type II', 'Type II', 'Type II', 'Type II',\n",
        "       'Type II', 'Type II', 'Type II', 'Type II', 'Type II', 'Type II',\n",
        "       'Type II', 'Type II', 'Type II', 'Type II', 'Type II', 'Type II',\n",
        "       'Type II', 'Type II', 'Type II', 'Type II', 'Type II', 'Type II',\n",
        "       'Type II', 'Type II', 'Type II', 'Type II', 'Type II', 'Type II',\n",
        "       'Type II', 'Type II', 'Type II', 'Type II', 'Type II', 'Type II',\n",
        "       'Type II', 'Type II', 'Type II', 'Type II', 'Type II', 'Type II',\n",
        "       'Type II', 'Type II', 'Type II', 'Type II', 'Type II', 'Type II',\n",
        "       'Type II', 'Type II', 'Type II', 'Type II', 'Type II', 'Type II',\n",
        "       'Type II', 'Type II', 'Type II', 'Type II', 'Type II', 'Type II',\n",
        "       'Type II', 'Type II', 'Type II', 'Type II', 'Type II', 'Type II',\n",
        "       'Type II', 'Type II', 'Type II', 'Type II', 'Type II', 'Type II',\n",
        "       'Type II', 'Type II', 'Type II', 'Type II', 'Type II', 'Type II',\n",
        "       'Type II', 'Type II', 'Type II', 'Type II', 'Type II', 'Type II',\n",
        "       'Type II', 'Type II', 'Type II', 'Type II', 'Type II', 'Type II',\n",
        "       'Type II', 'Type II', 'Type II', 'Type II', 'Type II', 'Type II',\n",
        "       'Type II', 'Type II', 'Type II', 'Type II', 'Type II', 'Type II',\n",
        "       'Type II', 'Type II', 'Type II', 'Type II', 'Type II', 'Type II',\n",
        "       'Type II', 'Type II'], dtype=object)"
       ]
      }
     ],
     "prompt_number": 95
    },
    {
     "cell_type": "code",
     "collapsed": false,
     "input": [
      "Y[Y==\"Type Ia\"] = 0\n",
      "Y[Y==\"Type Ibc\"] = 1\n",
      "Y[Y==\"Type II\"] = 2"
     ],
     "language": "python",
     "metadata": {},
     "outputs": [],
     "prompt_number": 96
    },
    {
     "cell_type": "code",
     "collapsed": false,
     "input": [
      "xtrain = X[::2,:]\n",
      "xtest = X[1::2,:]\n",
      "ytrain = Y[::2]\n",
      "ytest = Y[1::2]"
     ],
     "language": "python",
     "metadata": {},
     "outputs": [],
     "prompt_number": 97
    },
    {
     "cell_type": "code",
     "collapsed": false,
     "input": [
      "from sklearn.ensemble import RandomForestClassifier\n",
      "clf = RandomForestClassifier(n_estimators=200,oob_score=True)\n",
      "clf.fit(X,Y)"
     ],
     "language": "python",
     "metadata": {},
     "outputs": [
      {
       "metadata": {},
       "output_type": "pyout",
       "prompt_number": 98,
       "text": [
        "RandomForestClassifier(bootstrap=True, compute_importances=None,\n",
        "            criterion='gini', max_depth=None, max_features='auto',\n",
        "            max_leaf_nodes=None, min_density=None, min_samples_leaf=1,\n",
        "            min_samples_split=2, n_estimators=200, n_jobs=1,\n",
        "            oob_score=True, random_state=None, verbose=0)"
       ]
      }
     ],
     "prompt_number": 98
    },
    {
     "cell_type": "code",
     "collapsed": false,
     "input": [
      "clf.oob_score_"
     ],
     "language": "python",
     "metadata": {},
     "outputs": [
      {
       "metadata": {},
       "output_type": "pyout",
       "prompt_number": 99,
       "text": [
        "0.96999999999999997"
       ]
      }
     ],
     "prompt_number": 99
    },
    {
     "cell_type": "code",
     "collapsed": false,
     "input": [
      "ypred = clf.fit(xtrain, ytrain).predict(xtest)"
     ],
     "language": "python",
     "metadata": {},
     "outputs": [],
     "prompt_number": 100
    },
    {
     "cell_type": "code",
     "collapsed": false,
     "input": [
      "ypred.astype(int)"
     ],
     "language": "python",
     "metadata": {},
     "outputs": [
      {
       "metadata": {},
       "output_type": "pyout",
       "prompt_number": 110,
       "text": [
        "array([0, 0, 0, 0, 0, 1, 0, 0, 0, 0, 0, 0, 0, 0, 0, 0, 0, 0, 0, 0, 0, 0, 0,\n",
        "       0, 0, 0, 0, 0, 0, 0, 0, 0, 0, 0, 0, 0, 0, 0, 0, 0, 0, 0, 0, 0, 0, 0,\n",
        "       0, 0, 0, 0, 0, 0, 0, 0, 0, 0, 0, 0, 0, 0, 0, 0, 0, 0, 0, 0, 0, 0, 0,\n",
        "       0, 0, 0, 0, 0, 0, 0, 0, 0, 0, 0, 0, 0, 0, 0, 0, 0, 0, 0, 0, 0, 0, 0,\n",
        "       0, 0, 0, 0, 0, 0, 0, 0, 0, 0, 0, 0, 0, 0, 0, 0, 0, 0, 0, 0, 0, 0, 0,\n",
        "       0, 0, 0, 0, 0, 0, 0, 0, 0, 0, 0, 0, 0, 0, 0, 0, 0, 0, 0, 0, 0, 0, 0,\n",
        "       0, 0, 0, 0, 0, 0, 0, 0, 0, 0, 0, 0, 0, 0, 0, 0, 0, 0, 0, 0, 0, 0, 0,\n",
        "       0, 1, 0, 0, 0, 1, 1, 0, 1, 1, 2, 1, 1, 1, 1, 1, 1, 1, 1, 1, 2, 1, 1,\n",
        "       1, 1, 1, 1, 1, 1, 1, 1, 1, 1, 1, 1, 1, 1, 1, 1, 1, 1, 1, 1, 1, 1, 1,\n",
        "       1, 1, 1, 1, 1, 1, 1, 1, 1, 1, 1, 1, 1, 1, 1, 1, 1, 1, 1, 1, 1, 1, 1,\n",
        "       1, 1, 1, 1, 1, 1, 1, 1, 1, 1, 1, 1, 1, 1, 1, 1, 1, 1, 1, 1, 1, 1, 1,\n",
        "       2, 1, 1, 2, 1, 1, 1, 1, 1, 1, 1, 1, 1, 1, 1, 1, 1, 1, 1, 1, 1, 1, 1,\n",
        "       1, 1, 1, 1, 1, 1, 1, 1, 1, 1, 1, 1, 1, 1, 1, 1, 1, 1, 1, 1, 1, 1, 1,\n",
        "       1, 1, 1, 1, 1, 1, 1, 1, 1, 1, 1, 1, 1, 1, 1, 1, 1, 1, 1, 1, 1, 1, 1,\n",
        "       1, 1, 1, 1, 1, 1, 1, 1, 1, 1, 1, 1, 1, 1, 1, 1, 1, 1, 1, 1, 1, 1, 1,\n",
        "       1, 1, 1, 1, 1, 1, 1, 1, 1, 1, 1, 1, 1, 1, 1, 1, 1, 1, 1, 1, 1, 1, 1,\n",
        "       1, 1, 1, 1, 1, 1, 1, 1, 1, 1, 1, 1, 1, 1, 1, 1, 1, 1, 1, 1, 1, 1, 2,\n",
        "       1, 2, 2, 2, 2, 2, 2, 2, 2, 2, 2, 2, 2, 2, 2, 2, 2, 1, 2, 2, 2, 2, 2,\n",
        "       2, 1, 2, 2, 2, 2, 2, 2, 2, 2, 2, 2, 2, 2, 2, 2, 2, 2, 2, 2, 2, 2, 2,\n",
        "       2, 2, 2, 2, 2, 2, 2, 1, 2, 2, 2, 2, 2, 2, 2, 2, 2, 2, 2, 2, 2, 2, 2,\n",
        "       2, 2, 2, 2, 2, 2, 2, 2, 2, 2, 2, 2, 2, 2, 2, 2, 2, 2, 2, 2, 2, 2, 2,\n",
        "       2, 2, 2, 2, 2, 2, 2, 2, 2, 2, 2, 2, 2, 2, 2, 2, 2])"
       ]
      }
     ],
     "prompt_number": 110
    },
    {
     "cell_type": "code",
     "collapsed": false,
     "input": [
      "import matplotlib.pyplot as plt\n",
      "cm = confusion_matrix(ytest.astype(int), ypred.astype(int))\n",
      "\n",
      "print(cm)\n",
      "\n",
      "# Show confusion matrix in a separate window\n",
      "plt.matshow(cm)\n",
      "plt.title('Confusion matrix')\n",
      "plt.colorbar()\n",
      "plt.ylabel('True label')\n",
      "plt.xlabel('Predicted label')\n",
      "plt.show()"
     ],
     "language": "python",
     "metadata": {},
     "outputs": []
    },
    {
     "cell_type": "code",
     "collapsed": false,
     "input": [
      "ypred"
     ],
     "language": "python",
     "metadata": {},
     "outputs": [
      {
       "metadata": {},
       "output_type": "pyout",
       "prompt_number": 106,
       "text": [
        "array([0, 0, 0, 0, 0, 1, 0, 0, 0, 0, 0, 0, 0, 0, 0, 0, 0, 0, 0, 0, 0, 0, 0,\n",
        "       0, 0, 0, 0, 0, 0, 0, 0, 0, 0, 0, 0, 0, 0, 0, 0, 0, 0, 0, 0, 0, 0, 0,\n",
        "       0, 0, 0, 0, 0, 0, 0, 0, 0, 0, 0, 0, 0, 0, 0, 0, 0, 0, 0, 0, 0, 0, 0,\n",
        "       0, 0, 0, 0, 0, 0, 0, 0, 0, 0, 0, 0, 0, 0, 0, 0, 0, 0, 0, 0, 0, 0, 0,\n",
        "       0, 0, 0, 0, 0, 0, 0, 0, 0, 0, 0, 0, 0, 0, 0, 0, 0, 0, 0, 0, 0, 0, 0,\n",
        "       0, 0, 0, 0, 0, 0, 0, 0, 0, 0, 0, 0, 0, 0, 0, 0, 0, 0, 0, 0, 0, 0, 0,\n",
        "       0, 0, 0, 0, 0, 0, 0, 0, 0, 0, 0, 0, 0, 0, 0, 0, 0, 0, 0, 0, 0, 0, 0,\n",
        "       0, 1, 0, 0, 0, 1, 1, 0, 1, 1, 2, 1, 1, 1, 1, 1, 1, 1, 1, 1, 2, 1, 1,\n",
        "       1, 1, 1, 1, 1, 1, 1, 1, 1, 1, 1, 1, 1, 1, 1, 1, 1, 1, 1, 1, 1, 1, 1,\n",
        "       1, 1, 1, 1, 1, 1, 1, 1, 1, 1, 1, 1, 1, 1, 1, 1, 1, 1, 1, 1, 1, 1, 1,\n",
        "       1, 1, 1, 1, 1, 1, 1, 1, 1, 1, 1, 1, 1, 1, 1, 1, 1, 1, 1, 1, 1, 1, 1,\n",
        "       2, 1, 1, 2, 1, 1, 1, 1, 1, 1, 1, 1, 1, 1, 1, 1, 1, 1, 1, 1, 1, 1, 1,\n",
        "       1, 1, 1, 1, 1, 1, 1, 1, 1, 1, 1, 1, 1, 1, 1, 1, 1, 1, 1, 1, 1, 1, 1,\n",
        "       1, 1, 1, 1, 1, 1, 1, 1, 1, 1, 1, 1, 1, 1, 1, 1, 1, 1, 1, 1, 1, 1, 1,\n",
        "       1, 1, 1, 1, 1, 1, 1, 1, 1, 1, 1, 1, 1, 1, 1, 1, 1, 1, 1, 1, 1, 1, 1,\n",
        "       1, 1, 1, 1, 1, 1, 1, 1, 1, 1, 1, 1, 1, 1, 1, 1, 1, 1, 1, 1, 1, 1, 1,\n",
        "       1, 1, 1, 1, 1, 1, 1, 1, 1, 1, 1, 1, 1, 1, 1, 1, 1, 1, 1, 1, 1, 1, 2,\n",
        "       1, 2, 2, 2, 2, 2, 2, 2, 2, 2, 2, 2, 2, 2, 2, 2, 2, 1, 2, 2, 2, 2, 2,\n",
        "       2, 1, 2, 2, 2, 2, 2, 2, 2, 2, 2, 2, 2, 2, 2, 2, 2, 2, 2, 2, 2, 2, 2,\n",
        "       2, 2, 2, 2, 2, 2, 2, 1, 2, 2, 2, 2, 2, 2, 2, 2, 2, 2, 2, 2, 2, 2, 2,\n",
        "       2, 2, 2, 2, 2, 2, 2, 2, 2, 2, 2, 2, 2, 2, 2, 2, 2, 2, 2, 2, 2, 2, 2,\n",
        "       2, 2, 2, 2, 2, 2, 2, 2, 2, 2, 2, 2, 2, 2, 2, 2, 2], dtype=object)"
       ]
      }
     ],
     "prompt_number": 106
    },
    {
     "cell_type": "code",
     "collapsed": false,
     "input": [],
     "language": "python",
     "metadata": {},
     "outputs": []
    }
   ],
   "metadata": {}
  }
 ]
}